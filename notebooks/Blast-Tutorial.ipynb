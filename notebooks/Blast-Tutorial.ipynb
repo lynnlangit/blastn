{
 "cells": [
  {
   "cell_type": "markdown",
   "metadata": {},
   "source": [
    "# Get the BLAST tool"
   ]
  },
  {
   "cell_type": "code",
   "execution_count": 14,
   "metadata": {},
   "outputs": [
    {
     "name": "stdout",
     "output_type": "stream",
     "text": [
      "/home/jupyter-user/demo\n",
      "total 3536\n",
      "-rw-r--r-- 1 jupyter-user users     270 Jun  2 18:28 *\n",
      "drwxr-xr-x 4 jupyter-user users    4096 Jun  2 18:36 .\n",
      "drwxr-xr-x 1 jupyter-user users    4096 Apr 15 02:37 ..\n",
      "-rw-r--r-- 1 jupyter-user users   22057 Apr 15 02:48 3_Hail_Short_Demo_Mock_Data.ipynb\n",
      "drwxr-xr-x 2 jupyter-user users    4096 Jun 24  2015 Blast_Tutorial\n",
      "-rw-r--r-- 1 jupyter-user users    3254 Jun  2 18:36 Blast-Tutorial.ipynb\n",
      "-rw-r--r-- 1 jupyter-user users 1605139 Jun  2 18:19 Blast_Tutorial.tar.gz\n",
      "-rw-r--r-- 1 jupyter-user users      92 Jun  2 18:22 .delocalize.json\n",
      "-rw-r--r-- 1 jupyter-user users 1930614 Jun  1 22:42 Intro to Jupyter Notebooks.ipynb\n",
      "drwxr-xr-x 2 jupyter-user users    4096 Jun  2 17:58 .ipynb_checkpoints\n",
      "-rw-r--r-- 1 jupyter-user users     291 Jun  2 18:09 ncbi-blast-2.2.18+.pkg\n",
      "-rw-r--r-- 1 jupyter-user users     303 Jun  2 18:28 ncbi-blast+2.2.29-x64-linux.tar.gz\n",
      "-rw-r--r-- 1 jupyter-user users     304 Jun  2 18:36 ncbi-blast-2.2.29+-x64-linux.tar.gz\n",
      "-rw-r--r-- 1 jupyter-user users   12834 May 17 19:06 VS-k-Simple.ipynb\n"
     ]
    },
    {
     "name": "stderr",
     "output_type": "stream",
     "text": [
      "  % Total    % Received % Xferd  Average Speed   Time    Time     Time  Current\n",
      "                                 Dload  Upload   Total   Spent    Left  Speed\n",
      "100   304  100   304    0     0   4983      0 --:--:-- --:--:-- --:--:--  4983\n"
     ]
    }
   ],
   "source": [
    "%%bash\n",
    "curl -O http://ncbi.nlm.nih.gov/blast/executables/blast+/LATEST/ncbi-blast-2.2.29+-x64-linux.tar.gz\n",
    "##tar xvf ncbi-blast-2.2.29+-x64-linux.tar.gz\n",
    "##gunzip -d ncbi-blast-2.2.29+-x64-linux.tar.gz\n",
    "##tar -zxvpf ncbi-blast+2.2.29-x64-linux.tar.gz\n",
    "pwd\n",
    "ls -la"
   ]
  },
  {
   "cell_type": "markdown",
   "metadata": {},
   "source": [
    "# Get the database from the BLAST tutorial"
   ]
  },
  {
   "cell_type": "code",
   "execution_count": null,
   "metadata": {},
   "outputs": [],
   "source": [
    "%%bash\n",
    "if [ ! -f /home/jovyan/work/Blast_Tutorial.tar.gz ]; then\n",
    "    curl -O https://s3.amazonaws.com/edamame/Blast_Tutorial.tar.gz\n",
    "    tar -zxvf Blast_Tutorial.tar.gz\n",
    "fi"
   ]
  },
  {
   "cell_type": "markdown",
   "metadata": {},
   "source": [
    "# Create the database from the file downloaded then run the blast algo\n",
    "###### Generates the output under out.txt"
   ]
  },
  {
   "cell_type": "code",
   "execution_count": null,
   "metadata": {},
   "outputs": [],
   "source": [
    "%%bash \n",
    "cd Blast_Tutorial\n",
    "ls -l\n",
    "makeblastdb -in rep_set.fna -dbtype nucl -out My16sAmplicon\n",
    "blastn -db My16sAmplicon -query MyQuery.txt -out out.txt"
   ]
  },
  {
   "cell_type": "markdown",
   "metadata": {},
   "source": [
    "# Check to make sure the file was created"
   ]
  },
  {
   "cell_type": "code",
   "execution_count": null,
   "metadata": {},
   "outputs": [],
   "source": [
    "%%bash\n",
    "cd Blast_Tutorial\n",
    "ls -l"
   ]
  },
  {
   "cell_type": "code",
   "execution_count": null,
   "metadata": {},
   "outputs": [],
   "source": []
  }
 ],
 "metadata": {
  "kernelspec": {
   "display_name": "Python 3",
   "language": "python",
   "name": "python3"
  },
  "language_info": {
   "codemirror_mode": {
    "name": "ipython",
    "version": 3
   },
   "file_extension": ".py",
   "mimetype": "text/x-python",
   "name": "python",
   "nbconvert_exporter": "python",
   "pygments_lexer": "ipython3",
   "version": "3.6.8"
  },
  "toc": {
   "base_numbering": 1,
   "nav_menu": {},
   "number_sections": true,
   "sideBar": true,
   "skip_h1_title": false,
   "title_cell": "Table of Contents",
   "title_sidebar": "Contents",
   "toc_cell": false,
   "toc_position": {},
   "toc_section_display": true,
   "toc_window_display": false
  }
 },
 "nbformat": 4,
 "nbformat_minor": 2
}
